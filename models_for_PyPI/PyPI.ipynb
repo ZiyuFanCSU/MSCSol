{
 "cells": [
  {
   "cell_type": "code",
   "execution_count": 1,
   "metadata": {},
   "outputs": [
    {
     "name": "stdout",
     "output_type": "stream",
     "text": [
      "This process will take a few minutes, please wait for a moment.\n",
      "The predicted LogS is -1.85\n"
     ]
    }
   ],
   "source": [
    "import MSCSol\n",
    "MSCSol.pred(\"Cc1cc(C(=O)CC(C)C)ccc1O\")"
   ]
  }
 ],
 "metadata": {
  "kernelspec": {
   "display_name": "pgmg3",
   "language": "python",
   "name": "python3"
  },
  "language_info": {
   "codemirror_mode": {
    "name": "ipython",
    "version": 3
   },
   "file_extension": ".py",
   "mimetype": "text/x-python",
   "name": "python",
   "nbconvert_exporter": "python",
   "pygments_lexer": "ipython3",
   "version": "3.8.18"
  }
 },
 "nbformat": 4,
 "nbformat_minor": 2
}
